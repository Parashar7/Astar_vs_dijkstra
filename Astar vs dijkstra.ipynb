{
 "nbformat": 4,
 "nbformat_minor": 0,
 "metadata": {
  "colab": {
   "name": "199303047_divya.ipynb",
   "provenance": [],
   "collapsed_sections": []
  },
  "kernelspec": {
   "name": "python3",
   "display_name": "Python 3"
  },
  "language_info": {
   "name": "python"
  }
 },
 "cells": [
  {
   "cell_type": "markdown",
   "source": [
    "# Applying A* and dijkstra algorithm on Single Shortest Path Problem (SSP) further comparing the efficiency"
   ],
   "metadata": {
    "id": "P5282o14Ogg8"
   }
  },
  {
   "cell_type": "markdown",
   "source": [
    "# The Technique (A* Algorithm)\n",
    "\n",
    "It is a searching algorithm that is used to find the shortest path between an initial and a final point.\n",
    "\n",
    "It is a handy algorithm that is often used for map traversal to find the shortest path to be taken. A* was initially designed as a graph traversal problem, to help build a robot that can find its own course. It still remains a widely popular algorithm for graph traversal.\n",
    "\n",
    "It searches for shorter paths first, thus making it an optimal and complete algorithm. An optimal algorithm will find the least cost outcome for a problem, while a complete algorithm finds all the possible outcomes of a problem.\n",
    "\n",
    "Another aspect that makes A* so powerful is the use of weighted graphs in its implementation. A weighted graph uses numbers to represent the cost of taking each path or course of action. This means that the algorithms can take the path with the least cost, and find the best route in terms of distance and time."
   ],
   "metadata": {
    "id": "RzjvQ7AjScrn"
   }
  },
  {
   "cell_type": "markdown",
   "source": [
    "# The Problem (Single Shortest Path Problem)\n",
    "The Single Shortest Path (SSP) problem consists of finding the shortest paths between a given vertex v and all other vertices in the graph. Algorithms such as Breadth-First-Search (BFS) for unweighted graphs."
   ],
   "metadata": {
    "id": "d0wWpdKVS0Y4"
   }
  },
  {
   "cell_type": "markdown",
   "source": [
    "# Procedure(A* Algorithm)\n",
    "\n",
    "1.  Initialize the open list\n",
    "2.  Initialize the closed list\n",
    "    put the starting node on the open \n",
    "    list (you can leave its f at zero)\n",
    "\n",
    "3.  while the open list is not empty\n",
    "    a) find the node with the least f on \n",
    "       the open list, call it \"q\"\n",
    "\n",
    "    b) pop q off the open list\n",
    "  \n",
    "    c) generate q's 8 successors and set their \n",
    "       parents to q\n",
    "   \n",
    "    d) for each successor\n",
    "        i) if successor is the goal, stop search\n",
    "        \n",
    "        ii) else, compute both g and h for successor\n",
    "          successor.g = q.g + distance between \n",
    "                              successor and q\n",
    "          successor.h = distance from goal to \n",
    "          successor (This can be done using many \n",
    "          ways, we will discuss three heuristics- \n",
    "          Manhattan, Diagonal and Euclidean \n",
    "          Heuristics)\n",
    "          \n",
    "          successor.f = successor.g + successor.h\n",
    "\n",
    "        iii) if a node with the same position as \n",
    "            successor is in the OPEN list which has a \n",
    "           lower f than successor, skip this successor\n",
    "\n",
    "        iV) if a node with the same position as \n",
    "            successor  is in the CLOSED list which has\n",
    "            a lower f than successor, skip this successor\n",
    "            otherwise, add  the node to the open list\n",
    "     end (for loop)\n",
    "  \n",
    "    e) push q on the closed list\n",
    "    end (while loop)"
   ],
   "metadata": {
    "id": "3-zK0NybUNAz"
   }
  },
  {
   "cell_type": "markdown",
   "source": [
    "# Code(A* Algorithm)"
   ],
   "metadata": {
    "id": "ZBf4aiWWU-i-"
   }
  },
  {
   "cell_type": "code",
   "source": [
    "from collections import defaultdict\n",
    "import copy\n",
    "from queue import PriorityQueue\n",
    "\n",
    "\n",
    "def serialize(state):\n",
    "    result = []\n",
    "    for row in state:\n",
    "        for col in row:\n",
    "            result.append(str(col))\n",
    "    return ':'.join(result)\n",
    "\n",
    "\n",
    "def deserialize(serialized):\n",
    "    splitted = serialized.split(':')\n",
    "    splitted = [int(x) for x in splitted]\n",
    "    return [splitted[:3], splitted[3:6], splitted[6:]]\n",
    "\n",
    "\n",
    "def get_neighbours(state):\n",
    "    deserialized = deserialize(state)\n",
    "    neighbours = []\n",
    "    blank_i = -1\n",
    "    blank_j = -1\n",
    "\n",
    "    for i in range(0, 3):\n",
    "        for j in range(0, 3):\n",
    "            if deserialized[i][j] == 0:\n",
    "                blank_i, blank_j = i, j\n",
    "                break\n",
    "\n",
    "    i = blank_i\n",
    "    j = blank_j\n",
    "\n",
    "    if i > 0:\n",
    "        new_matrix = copy.deepcopy(deserialized)\n",
    "        new_matrix[i][j] = new_matrix[i - 1][j]\n",
    "        new_matrix[i - 1][j] = 0\n",
    "        neighbours.append(serialize(new_matrix))\n",
    "    if i < 2:\n",
    "        new_matrix = copy.deepcopy(deserialized)\n",
    "        new_matrix[i][j] = new_matrix[i + 1][j]\n",
    "        new_matrix[i + 1][j] = 0\n",
    "        neighbours.append(serialize(new_matrix))\n",
    "    if j > 0:\n",
    "        new_matrix = copy.deepcopy(deserialized)\n",
    "        new_matrix[i][j] = new_matrix[i][j - 1]\n",
    "        new_matrix[i][j - 1] = 0\n",
    "        neighbours.append(serialize(new_matrix))\n",
    "    if j < 2:\n",
    "        new_matrix = copy.deepcopy(deserialized)\n",
    "        new_matrix[i][j] = new_matrix[i][j + 1]\n",
    "        new_matrix[i][j + 1] = 0\n",
    "        neighbours.append(serialize(new_matrix))\n",
    "\n",
    "    return zip(neighbours, [1 for x in neighbours])\n",
    "\n",
    "\n",
    "def h(state):\n",
    "    deserialized = deserialize(state)\n",
    "    H = 0\n",
    "    for i in range(0, 3):\n",
    "        for j in range(0, 3):\n",
    "            H += abs(deserialized[i][j] % 3 - j) + abs(deserialized[i][j] / 3 - i)\n",
    "    return H\n",
    "\n",
    "\n",
    "def in_open_set_with_lowest_heuristic_guess(open_set, heuristic_guess):\n",
    "    result, min_guess = None, float('inf')\n",
    "    for v in open_set:\n",
    "        if v in heuristic_guess:\n",
    "            guess = heuristic_guess[v]\n",
    "            if guess < min_guess:\n",
    "                result = v\n",
    "                min_guess = guess\n",
    "    return result\n",
    "\n",
    "\n",
    "def astar_lloyd(start_node, target_node, h):\n",
    "    start_node = serialize(start_node)\n",
    "    target_node = serialize(target_node)\n",
    "\n",
    "    open_set = set([start_node])\n",
    "\n",
    "    parents = {}\n",
    "    parents[start_node] = None\n",
    "\n",
    "    cheapest_paths = defaultdict(lambda: float('inf'))\n",
    "    cheapest_paths[start_node] = 0\n",
    "\n",
    "    heuristic_guess = defaultdict(lambda: float('inf'))\n",
    "    heuristic_guess[start_node] = h(start_node)\n",
    "\n",
    "    path_found = False\n",
    "    iteration = 0\n",
    "    while len(open_set) > 0:\n",
    "        # O(1)\n",
    "        current_node = in_open_set_with_lowest_heuristic_guess(open_set, heuristic_guess)\n",
    "        if current_node == target_node:\n",
    "            path_found = True\n",
    "            break\n",
    "\n",
    "        open_set.remove(current_node)\n",
    "        for (neighbour_node, weight) in get_neighbours(current_node):\n",
    "            new_cheapest_path = cheapest_paths[current_node] + weight\n",
    "            if new_cheapest_path < cheapest_paths[neighbour_node]:\n",
    "                parents[neighbour_node] = current_node\n",
    "                cheapest_paths[neighbour_node] = new_cheapest_path\n",
    "                heuristic_guess[neighbour_node] = new_cheapest_path + h(neighbour_node)\n",
    "                if neighbour_node not in open_set:\n",
    "                    open_set.add(neighbour_node)\n",
    "        iteration += 1\n",
    "\n",
    "    path = []\n",
    "    if path_found:\n",
    "        while target_node is not None:\n",
    "            path.append(target_node)\n",
    "            target_node = parents[target_node]\n",
    "        path.reverse()\n",
    "    return (path, iteration)"
   ],
   "metadata": {
    "id": "k5youafwVtLi"
   },
   "execution_count": 5,
   "outputs": []
  },
  {
   "cell_type": "markdown",
   "source": [
    "# Result(A* Algorithm)"
   ],
   "metadata": {
    "id": "jLZABq5QWvTt"
   }
  },
  {
   "cell_type": "code",
   "source": [
    "if __name__ == '__main__':\n",
    "    start_node = [[2, 3, 5], [1, 4, 0], [7, 8, 6]]\n",
    "    target_node = [[0, 1, 2], [3, 4, 5], [6, 7, 8]]\n",
    "    print('A* Path and Cost respectively are:')\n",
    "    (path, iteration) = astar_lloyd(start_node, target_node, h)\n",
    "    print('Path: \\n', path)\n",
    "    print('Cost:', iteration)"
   ],
   "metadata": {
    "colab": {
     "base_uri": "https://localhost:8080/"
    },
    "id": "dxs75bkJVT7G",
    "outputId": "5f2cedf1-6693-49e5-eed0-fd4f924ecb51"
   },
   "execution_count": 6,
   "outputs": [
    {
     "output_type": "stream",
     "name": "stdout",
     "text": [
      "A* Path and Cost respectively are:\n",
      "Path: \n",
      " ['2:3:5:1:4:0:7:8:6', '2:3:5:1:4:6:7:8:0', '2:3:5:1:4:6:7:0:8', '2:3:5:1:0:6:7:4:8', '2:0:5:1:3:6:7:4:8', '0:2:5:1:3:6:7:4:8', '1:2:5:0:3:6:7:4:8', '1:2:5:3:0:6:7:4:8', '1:2:5:3:6:0:7:4:8', '1:2:0:3:6:5:7:4:8', '1:0:2:3:6:5:7:4:8', '0:1:2:3:6:5:7:4:8', '3:1:2:0:6:5:7:4:8', '3:1:2:6:0:5:7:4:8', '3:1:2:6:4:5:7:0:8', '3:1:2:6:4:5:0:7:8', '3:1:2:0:4:5:6:7:8', '0:1:2:3:4:5:6:7:8']\n",
      "Cost: 199\n"
     ]
    }
   ]
  },
  {
   "cell_type": "markdown",
   "source": [
    "# Procedure(Dijkstra Algorithm)\n",
    "\n",
    "Below are the detailed steps used in Dijkstra’s algorithm to find the shortest path from a single source vertex to all other vertices in the given graph. \n",
    "Algorithm\n",
    "\n",
    "\n",
    "1. Create a set sptSet (shortest path tree set) that keeps track of vertices included in shortest path tree, i.e., whose minimum distance from source is calculated and finalized. Initially, this set is empty. \n",
    "2. Assign a distance value to all vertices in the input graph. Initialize all distance values as INFINITE. Assign distance value as 0 for the source vertex so that it is picked first. \n",
    "\n",
    "3. While sptSet doesn’t include all vertices:\n",
    "\n",
    "\n",
    "*   Pick a vertex u which is not there in sptSet and has minimum distance value.\n",
    "*   Include u to sptSet.\n",
    "\n",
    "*   Update distance value of all adjacent vertices of u. To update the distance values, iterate through all adjacent vertices. For every adjacent vertex v, if the sum of a distance value of u (from source) and weight of edge u-v, is less than the distance value of v, then update the distance value of v.\n",
    "\n",
    "\n",
    "\n",
    "\n",
    "\n",
    "\n"
   ],
   "metadata": {
    "id": "YAlZd-sQYXr8"
   }
  },
  {
   "cell_type": "markdown",
   "source": [
    "# Code(Dijkstra Algorithm)"
   ],
   "metadata": {
    "id": "t6l2XCRaaAY0"
   }
  },
  {
   "cell_type": "code",
   "source": [
    "from collections import defaultdict\n",
    "import copy\n",
    "from queue import PriorityQueue\n",
    "\n",
    "\n",
    "def serialize(state):\n",
    "    result = []\n",
    "    for row in state:\n",
    "        for col in row:\n",
    "            result.append(str(col))\n",
    "    return ':'.join(result)\n",
    "\n",
    "\n",
    "def deserialize(serialized):\n",
    "    splitted = serialized.split(':')\n",
    "    splitted = [int(x) for x in splitted]\n",
    "    return [splitted[:3], splitted[3:6], splitted[6:]]\n",
    "\n",
    "\n",
    "def get_neighbours(state):\n",
    "    deserialized = deserialize(state)\n",
    "    neighbours = []\n",
    "    blank_i = -1\n",
    "    blank_j = -1\n",
    "\n",
    "    for i in range(0, 3):\n",
    "        for j in range(0, 3):\n",
    "            if deserialized[i][j] == 0:\n",
    "                blank_i, blank_j = i, j\n",
    "                break\n",
    "\n",
    "    i = blank_i\n",
    "    j = blank_j\n",
    "\n",
    "    if i > 0:\n",
    "        new_matrix = copy.deepcopy(deserialized)\n",
    "        new_matrix[i][j] = new_matrix[i - 1][j]\n",
    "        new_matrix[i - 1][j] = 0\n",
    "        neighbours.append(serialize(new_matrix))\n",
    "    if i < 2:\n",
    "        new_matrix = copy.deepcopy(deserialized)\n",
    "        new_matrix[i][j] = new_matrix[i + 1][j]\n",
    "        new_matrix[i + 1][j] = 0\n",
    "        neighbours.append(serialize(new_matrix))\n",
    "    if j > 0:\n",
    "        new_matrix = copy.deepcopy(deserialized)\n",
    "        new_matrix[i][j] = new_matrix[i][j - 1]\n",
    "        new_matrix[i][j - 1] = 0\n",
    "        neighbours.append(serialize(new_matrix))\n",
    "    if j < 2:\n",
    "        new_matrix = copy.deepcopy(deserialized)\n",
    "        new_matrix[i][j] = new_matrix[i][j + 1]\n",
    "        new_matrix[i][j + 1] = 0\n",
    "        neighbours.append(serialize(new_matrix))\n",
    "\n",
    "    return zip(neighbours, [1 for x in neighbours])\n",
    "\n",
    "\n",
    "def dijkstra(start_node, target_node):\n",
    "    start_node = serialize(start_node)\n",
    "    target_node = serialize(target_node)\n",
    "\n",
    "    visited = set()\n",
    "    D = defaultdict(lambda: float('inf'))\n",
    "    D[start_node] = 0\n",
    "\n",
    "    pq = PriorityQueue()\n",
    "    pq.put((0, start_node))\n",
    "\n",
    "    parent = dict()\n",
    "    parent[start_node] = None\n",
    "    path_found = False\n",
    "    iteratrion = 0\n",
    "    while not pq.empty():\n",
    "        (dist, current_node) = pq.get()\n",
    "        if current_node == target_node:\n",
    "            path_found = True\n",
    "            break\n",
    "        visited.add(current_node)\n",
    "\n",
    "        for (neighbour, distance_from_current_node) in get_neighbours(current_node):\n",
    "            if neighbour not in visited:\n",
    "                old_cost = D[neighbour]\n",
    "                new_cost = D[current_node] + distance_from_current_node\n",
    "                if new_cost < old_cost:\n",
    "                    pq.put((new_cost, neighbour))\n",
    "                    D[neighbour] = new_cost\n",
    "                    parent[neighbour] = current_node\n",
    "        iteratrion += 1\n",
    "\n",
    "    path = []\n",
    "    if path_found:\n",
    "        path.append(target_node)\n",
    "        while True:\n",
    "            parent_node = parent[target_node]\n",
    "            if parent_node is None:\n",
    "                break\n",
    "            path.append(parent_node)\n",
    "            target_node = parent_node\n",
    "        path.reverse()\n",
    "    return (path, iteratrion)"
   ],
   "metadata": {
    "id": "8sH8LR92b6yf"
   },
   "execution_count": 7,
   "outputs": []
  },
  {
   "cell_type": "markdown",
   "source": [
    "# Result(Dijkstra Algorithm)"
   ],
   "metadata": {
    "id": "MAdbQEshvtpC"
   }
  },
  {
   "cell_type": "code",
   "source": [
    "if __name__ == '__main__':\n",
    "    start_state = [[2, 3, 5], [1, 4, 0], [7, 8, 6]]\n",
    "    target_state = [[0, 1, 2], [3, 4, 5], [6, 7, 8]]\n",
    "\n",
    "    print('Dijkstra Path and Cost respectively are:')\n",
    "    (path, iteration) = dijkstra(start_state, target_state)\n",
    "    print('Path: \\n', path)\n",
    "    print('Cost:', iteration)"
   ],
   "metadata": {
    "colab": {
     "base_uri": "https://localhost:8080/"
    },
    "id": "Qh6TPr6dvrjY",
    "outputId": "636d6148-83f0-4d98-bc6d-a8e02d4cd9c9"
   },
   "execution_count": 8,
   "outputs": [
    {
     "output_type": "stream",
     "name": "stdout",
     "text": [
      "Dijkstra Path and Cost respectively are:\n",
      "Path: \n",
      " ['2:3:5:1:4:0:7:8:6', '2:3:5:1:4:6:7:8:0', '2:3:5:1:4:6:7:0:8', '2:3:5:1:0:6:7:4:8', '2:0:5:1:3:6:7:4:8', '0:2:5:1:3:6:7:4:8', '1:2:5:0:3:6:7:4:8', '1:2:5:3:0:6:7:4:8', '1:2:5:3:6:0:7:4:8', '1:2:0:3:6:5:7:4:8', '1:0:2:3:6:5:7:4:8', '0:1:2:3:6:5:7:4:8', '3:1:2:0:6:5:7:4:8', '3:1:2:6:0:5:7:4:8', '3:1:2:6:4:5:7:0:8', '3:1:2:6:4:5:0:7:8', '3:1:2:0:4:5:6:7:8', '0:1:2:3:4:5:6:7:8']\n",
      "Cost: 12649\n"
     ]
    }
   ]
  },
  {
   "cell_type": "markdown",
   "source": [
    "# Remarks\n",
    "\n",
    "Even though Dijkstra's algorithm and the A* algorithm both find the same shortest paths, the A* algorithm does it almost 63.5 times faster! While Dijkstra's algorithm produced the output after 12649 iterations, it only took 199(depending on iteration) for the A* algotithm.\n",
    "\n",
    "However, it should be noted that the efficiency of the A* algorithm is highly dependent on its evaluation function, and with the wrong function, the results could be even worse than Dijkstra.\n",
    "\n",
    "At the end given that we have a good heuristic guess on our problem, it is definitely more efficient to use the A* algorithm compared to Dijkstra's algorithm, although this won't always be the case as it can be highly dependent on the problem at hand."
   ],
   "metadata": {
    "id": "pGKh_BgRv_6N"
   }
  }
 ]
}